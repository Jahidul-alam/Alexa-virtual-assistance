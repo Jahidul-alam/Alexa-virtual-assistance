{
  "nbformat": 4,
  "nbformat_minor": 0,
  "metadata": {
    "colab": {
      "name": "Alexa-virtual assistance",
      "provenance": [],
      "authorship_tag": "ABX9TyNJgm+kpNMiICW5W57e/xll",
      "include_colab_link": true
    },
    "kernelspec": {
      "name": "python3",
      "display_name": "Python 3"
    },
    "language_info": {
      "name": "python"
    }
  },
  "cells": [
    {
      "cell_type": "markdown",
      "metadata": {
        "id": "view-in-github",
        "colab_type": "text"
      },
      "source": [
        "<a href=\"https://colab.research.google.com/github/Jahidul-alam/Alexa-virtual-assistance/blob/main/Alexa_virtual_assistance.ipynb\" target=\"_parent\"><img src=\"https://colab.research.google.com/assets/colab-badge.svg\" alt=\"Open In Colab\"/></a>"
      ]
    },
    {
      "cell_type": "code",
      "metadata": {
        "id": "hDyC6RPHiRO7"
      },
      "source": [
        "pip install SpeechRecognition"
      ],
      "execution_count": null,
      "outputs": []
    },
    {
      "cell_type": "code",
      "metadata": {
        "id": "OmxPM1eqiZvj"
      },
      "source": [
        "pip install pyttsx3"
      ],
      "execution_count": null,
      "outputs": []
    },
    {
      "cell_type": "code",
      "metadata": {
        "id": "noTfcWENiZ4C"
      },
      "source": [
        "conda install -c anaconda pyaudio"
      ],
      "execution_count": null,
      "outputs": []
    },
    {
      "cell_type": "code",
      "metadata": {
        "id": "3hBf-rCwiZ-f"
      },
      "source": [
        "pip install pywhatkit"
      ],
      "execution_count": null,
      "outputs": []
    },
    {
      "cell_type": "code",
      "metadata": {
        "id": "CQSgpTROil3z"
      },
      "source": [
        "pip install wikipedia"
      ],
      "execution_count": null,
      "outputs": []
    },
    {
      "cell_type": "code",
      "metadata": {
        "id": "UfcIZ_aximlL"
      },
      "source": [
        "import speech_recognition as sr\n",
        "import pyttsx3\n",
        "import datetime\n",
        "import pywhatkit\n",
        "import wikipedia\n",
        "listener = sr.Recognizer()\n",
        "alexa = pyttsx3.init()\n",
        "\n",
        "voices = alexa.getProperty('voices')\n",
        "alexa.setProperty('voice', voices[0].id)\n",
        "\n",
        "def talk(text):\n",
        "    alexa.say(text)\n",
        "    alexa.runAndWait()\n",
        "\n",
        "def take_command():\n",
        "    \n",
        "    try:\n",
        "        with sr.Microphone() as source:\n",
        "            print('Alexa is listening, please speak...')\n",
        "            voice = listener.listen(source)\n",
        "            command = listener.recognize_google(voice)\n",
        "            command = command.lower()\n",
        "            if 'alexa' in command:\n",
        "                command = command.replace('alexa', '')\n",
        "    except:   \n",
        "        pass\n",
        "    return command\n",
        "\n",
        "def run_alexa():\n",
        "    command = take_command()\n",
        "    \n",
        "    if 'time' in command:\n",
        "        time = datetime.datetime.now().strftime('%I:%M %p')\n",
        "        print('Current time is ' + time)\n",
        "        talk('Current time is ' + time) \n",
        "    elif 'play' in command:\n",
        "        song = command.replace('play', '')\n",
        "        talk('playing ' + song)\n",
        "        pywhatkit.playonyt(song)\n",
        "    elif 'tell me about' in command:\n",
        "        wiki = command.replace('tell me about', '')\n",
        "        info = wikipedia.summary(wiki, 2)\n",
        "        print(info)\n",
        "        talk(info)\n",
        "    else:\n",
        "        talk('Sorry I didnot get your question, I can search it from google')\n",
        "        pywhatkit.search(command)\n",
        "             \n",
        "        \n",
        "run_alexa()"
      ],
      "execution_count": null,
      "outputs": []
    }
  ]
}